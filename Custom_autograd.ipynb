{
 "cells": [
  {
   "cell_type": "code",
   "execution_count": 1,
   "id": "4696f828-a7fa-4633-b432-5ba80a7f50ca",
   "metadata": {},
   "outputs": [],
   "source": [
    "import torch\n",
    "import torch.nn as nn\n",
    "import torch.nn.functional as F\n",
    "\n",
    "import numpy as np"
   ]
  },
  {
   "cell_type": "markdown",
   "id": "04a23f1a-dc4f-423a-80a5-a3085cca79fd",
   "metadata": {},
   "source": [
    "### Simple examples of implementing Custom autograd subclasses"
   ]
  },
  {
   "cell_type": "code",
   "execution_count": 2,
   "id": "16735a4d-7b90-49c9-9b2a-749d9fed1ac3",
   "metadata": {},
   "outputs": [],
   "source": [
    "class MyReLU(torch.autograd.Function):\n",
    "    \n",
    "    \"\"\"\n",
    "    To implement a custom Autograd Function, we need to subclass the torch.autograd.Function and \n",
    "    implement forward and backward passes which operate on Tensors \n",
    "    \"\"\"\n",
    "    \n",
    "    \n",
    "    @staticmethod\n",
    "    def forward(ctx, inputs):\n",
    "        \"\"\"\n",
    "        In the forward pass we receive a Tensor containing the input and return\n",
    "        a Tensor containing the output. ctx is a context object that can be used\n",
    "        to stash information for backward computation. You can cache arbitrary\n",
    "        objects for use in the backward pass using the ctx.save_for_backward method.\n",
    "        \"\"\"\n",
    "        ctx.save_for_backward(inputs)\n",
    "        return inputs.clamp(min=0)\n",
    "    \n",
    "    \n",
    "    @staticmethod\n",
    "    def backward(ctx, grad_output):\n",
    "        \"\"\"\n",
    "        In the backward pass we receive a Tensor containing the gradient of the loss\n",
    "        with respect to the output, and we need to compute the gradient of the loss\n",
    "        with respect to the input.\n",
    "        \"\"\"\n",
    "        inputs, = ctx.saved_tensors\n",
    "        grad_input = grad_output.clone()\n",
    "        grad_input[inputs < 0] = 0\n",
    "        return grad_input"
   ]
  },
  {
   "cell_type": "code",
   "execution_count": 3,
   "id": "2b8d293f-6b29-45df-b194-98ee0d29869c",
   "metadata": {
    "scrolled": true
   },
   "outputs": [],
   "source": [
    "from torch.autograd import gradcheck\n",
    "inputs = torch.rand(2, 3, dtype = torch.double, requires_grad = True)\n",
    "grad_output = torch.rand(2, 3, requires_grad = True, dtype = torch.float)\n",
    "relu = MyReLU.apply\n",
    "# bla = relu(inputs)\n",
    "# bla.backward(grad_output)\n",
    "test = gradcheck(relu, inputs, eps = 1e-6, atol=1e-4)\n",
    "# print(test)"
   ]
  },
  {
   "cell_type": "code",
   "execution_count": 4,
   "id": "9cd140d7-51cd-4643-b448-30ff28fd4863",
   "metadata": {},
   "outputs": [],
   "source": [
    "class MatrixSum(torch.autograd.Function):\n",
    "    \"\"\"\n",
    "    Implements a simple matrix sum class with autograd support\n",
    "    \"\"\"\n",
    "    @staticmethod\n",
    "    def forward(ctx, inputs):\n",
    "        \"\"\"\n",
    "        In the forward pass we receive a Tensor containing the input and return\n",
    "        a Tensor containing the output. ctx is a context object that can be used\n",
    "        to stash information for backward computation. You can cache arbitrary\n",
    "        objects for use in the backward pass using the ctx.save_for_backward method.\n",
    "        \"\"\"\n",
    "        ctx.save_for_backward(inputs)\n",
    "        return inputs.sum()\n",
    "\n",
    "    @staticmethod\n",
    "    def backward(ctx, grad_outputs):\n",
    "        \"\"\"\n",
    "        In the backward pass we receive a Tensor containing the gradient of the loss\n",
    "        with respect to the output, and we need to compute the gradient of the loss\n",
    "        with respect to the input.\n",
    "        \"\"\"\n",
    "        inputs, = ctx.saved_tensors\n",
    "        dsumdx = torch.ones_like(inputs)\n",
    "        dinputs =  grad_outputs * dsumdx\n",
    "        return dinputs"
   ]
  },
  {
   "cell_type": "code",
   "execution_count": 5,
   "id": "0b0d1939-32f0-471e-a0a0-5f205e1b8ded",
   "metadata": {
    "scrolled": true
   },
   "outputs": [],
   "source": [
    "class MySub(torch.autograd.Function):\n",
    "    \"\"\"\n",
    "    Implements a custom matrix subtraction class with autograd support\n",
    "    \"\"\"\n",
    "\n",
    "    # def __init__(self, )\n",
    "    @staticmethod\n",
    "    def forward(inp, other, alpha = 1):\n",
    "        output = inp - alpha * other\n",
    "        return output\n",
    "        \n",
    "    @staticmethod\n",
    "    def setup_context(ctx, inp, output):\n",
    "        inp, other, alpha = inp\n",
    "        ctx.save_for_backward(inp, other)\n",
    "        ctx.constant = alpha\n",
    "    \n",
    "    @staticmethod\n",
    "    def backward(ctx, grad_out):\n",
    "        inputs, other = ctx.saved_tensors\n",
    "        alpha = ctx.constant\n",
    "        dinputs = grad_out * torch.ones_like(inputs)\n",
    "        dother = grad_out * - alpha * torch.ones_like(other)\n",
    "        return dinputs, dother, None"
   ]
  },
  {
   "cell_type": "markdown",
   "id": "e949f75d-ede0-4984-a438-a59c0eb3e4fc",
   "metadata": {},
   "source": [
    "### Simple example of implementing custom autograd for Non-differential functions"
   ]
  },
  {
   "cell_type": "code",
   "execution_count": 27,
   "id": "880abd42-ce1b-47ad-92d7-600a207af6cf",
   "metadata": {},
   "outputs": [],
   "source": [
    "# Defining a non differentiable CrossEntropy loss using Numpy\n",
    "\n",
    "def nondiff_crossentropyloss(y_true, y_pred):\n",
    "    y_true_numpy = y_true.detach().numpy()\n",
    "    y_pred_numpy = y_pred.detach().numpy()\n",
    "    # Clipping ensures we never hit log(0) scenario\n",
    "    y_pred_numpy_clipped = np.clip(y_pred_numpy, 1e-7, 1 - 1e-7)\n",
    "    # Return the crossentropy loss as a tensor\n",
    "    np_loss = np.sum(-y_true_numpy * np.log(y_pred_numpy_clipped))\n",
    "    loss = torch.tensor(np_loss,\n",
    "                        dtype = y_true.dtype, \n",
    "                        device = y_true.device) / y_true.shape[0]\n",
    "    return loss\n",
    "\n",
    "class NonDiffCrossEntropy(torch.autograd.Function):\n",
    "    \"\"\"\n",
    "    Creating an autograd compatible wrapper class that wraps the non-differentiable crossentropy \n",
    "    function defined above to be differntiable \n",
    "    \"\"\"\n",
    "    @staticmethod\n",
    "    def forward(ctx, y_true, y_pred):\n",
    "        ctx.save_for_backward(y_true, y_pred)\n",
    "        # print(nondiff_crossentropyloss(y_true, y_pred))\n",
    "        return nondiff_crossentropyloss(y_true, y_pred)\n",
    "        \n",
    "    @staticmethod\n",
    "    def backward(ctx, grad_output):\n",
    "        y_true, y_pred = ctx.saved_tensors\n",
    "        N = y_true.shape[0]\n",
    "        dy_pred = (-y_true/y_pred) / N\n",
    "        return None, dy_pred * grad_output"
   ]
  },
  {
   "cell_type": "code",
   "execution_count": 28,
   "id": "ec15b046-061f-4640-b004-fff8c6dfa917",
   "metadata": {
    "scrolled": true
   },
   "outputs": [
    {
     "data": {
      "text/plain": [
       "True"
      ]
     },
     "execution_count": 28,
     "metadata": {},
     "output_type": "execute_result"
    }
   ],
   "source": [
    "A = torch.rand(3, 3, requires_grad=False, dtype = torch.double)\n",
    "B = torch.rand(3, 3, requires_grad=True, dtype = torch.double)\n",
    "loss = NonDiffCrossEntropy.apply\n",
    "gradcheck(loss, [A, B])"
   ]
  },
  {
   "cell_type": "code",
   "execution_count": null,
   "id": "bd417323-629d-4cff-8e83-6e410c3f763f",
   "metadata": {},
   "outputs": [],
   "source": []
  }
 ],
 "metadata": {
  "kernelspec": {
   "display_name": "Python 3 (ipykernel)",
   "language": "python",
   "name": "python3"
  },
  "language_info": {
   "codemirror_mode": {
    "name": "ipython",
    "version": 3
   },
   "file_extension": ".py",
   "mimetype": "text/x-python",
   "name": "python",
   "nbconvert_exporter": "python",
   "pygments_lexer": "ipython3",
   "version": "3.13.2"
  }
 },
 "nbformat": 4,
 "nbformat_minor": 5
}
